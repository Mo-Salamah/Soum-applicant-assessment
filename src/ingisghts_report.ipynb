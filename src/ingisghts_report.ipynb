{
 "cells": [
  {
   "cell_type": "code",
   "execution_count": 1,
   "metadata": {},
   "outputs": [],
   "source": [
    "# import modules\n",
    "\n",
    "import numpy as np\n",
    "import pandas as pd\n",
    "import matplotlib.pyplot as plt\n",
    "import seaborn as sns\n",
    "import warnings\n",
    "import datetime\n",
    "from hijri_converter import Hijri, Gregorian\n",
    "\n",
    "warnings.filterwarnings(\"ignore\")"
   ]
  },
  {
   "cell_type": "code",
   "execution_count": 2,
   "metadata": {},
   "outputs": [
    {
     "data": {
      "text/html": [
       "<div>\n",
       "<style scoped>\n",
       "    .dataframe tbody tr th:only-of-type {\n",
       "        vertical-align: middle;\n",
       "    }\n",
       "\n",
       "    .dataframe tbody tr th {\n",
       "        vertical-align: top;\n",
       "    }\n",
       "\n",
       "    .dataframe thead th {\n",
       "        text-align: right;\n",
       "    }\n",
       "</style>\n",
       "<table border=\"1\" class=\"dataframe\">\n",
       "  <thead>\n",
       "    <tr style=\"text-align: right;\">\n",
       "      <th></th>\n",
       "      <th>ID</th>\n",
       "      <th>date</th>\n",
       "      <th>status</th>\n",
       "      <th>buyer_phone</th>\n",
       "      <th>buyer_city</th>\n",
       "      <th>grand_total</th>\n",
       "    </tr>\n",
       "  </thead>\n",
       "  <tbody>\n",
       "    <tr>\n",
       "      <th>0</th>\n",
       "      <td>1</td>\n",
       "      <td>2025-08-19</td>\n",
       "      <td>refunded</td>\n",
       "      <td>536047743</td>\n",
       "      <td>Riyadh</td>\n",
       "      <td>10849.950</td>\n",
       "    </tr>\n",
       "    <tr>\n",
       "      <th>1</th>\n",
       "      <td>3</td>\n",
       "      <td>2025-08-19</td>\n",
       "      <td>refunded</td>\n",
       "      <td>555755225</td>\n",
       "      <td>Riyadh</td>\n",
       "      <td>6630.525</td>\n",
       "    </tr>\n",
       "    <tr>\n",
       "      <th>2</th>\n",
       "      <td>4</td>\n",
       "      <td>2025-08-19</td>\n",
       "      <td>Transferred</td>\n",
       "      <td>551540834</td>\n",
       "      <td>Abha</td>\n",
       "      <td>8122.500</td>\n",
       "    </tr>\n",
       "    <tr>\n",
       "      <th>3</th>\n",
       "      <td>5</td>\n",
       "      <td>2025-08-19</td>\n",
       "      <td>Transferred</td>\n",
       "      <td>558411024</td>\n",
       "      <td>Abha</td>\n",
       "      <td>12671.100</td>\n",
       "    </tr>\n",
       "    <tr>\n",
       "      <th>4</th>\n",
       "      <td>6</td>\n",
       "      <td>2025-08-19</td>\n",
       "      <td>Transferred</td>\n",
       "      <td>509292218</td>\n",
       "      <td>Abha</td>\n",
       "      <td>7233.300</td>\n",
       "    </tr>\n",
       "  </tbody>\n",
       "</table>\n",
       "</div>"
      ],
      "text/plain": [
       "   ID       date       status  buyer_phone buyer_city  grand_total\n",
       "0   1 2025-08-19     refunded    536047743     Riyadh    10849.950\n",
       "1   3 2025-08-19     refunded    555755225     Riyadh     6630.525\n",
       "2   4 2025-08-19  Transferred    551540834       Abha     8122.500\n",
       "3   5 2025-08-19  Transferred    558411024       Abha    12671.100\n",
       "4   6 2025-08-19  Transferred    509292218       Abha     7233.300"
      ]
     },
     "execution_count": 2,
     "metadata": {},
     "output_type": "execute_result"
    }
   ],
   "source": [
    "# load data \n",
    "transactions = pd.read_excel(\"../data/assesment_data.xlsx\", sheet_name=0)\n",
    "\n",
    "# standardize column names\n",
    "transactions.rename(columns={\"ID \":\"ID\", \"Buyer Phone\": \"buyer_phone\", \n",
    "                             \"Grand Total\": \"grand_total\", \"Buyer City\": \"buyer_city\", \n",
    "                             \"Date\":\"date\", \"Status\":\"status\"}, inplace=True)\n",
    "\n",
    "# drop null values (only 9/~3000 instances)\n",
    "transactions.dropna(axis=0, how=\"any\", inplace=True)\n",
    "\n",
    "# fix column type\n",
    "transactions['buyer_phone'] = transactions.buyer_phone.astype(\"int\")\n",
    "transactions.head()\n",
    "\n",
    "# delete below this line later\n",
    "# fix tags in Status\n",
    "mapper = {\"Refunded\":\"refunded\", \"Delivered - Soum Product\":\"Transferred\",\n",
    "          \"refunded\":\"refunded\", \"Transferred\":\"Transferred\"}\n",
    "\n",
    "transactions['status'] = transactions.status.apply(lambda x: mapper[x])\n",
    "\n",
    "transactions.head()"
   ]
  },
  {
   "cell_type": "code",
   "execution_count": 3,
   "metadata": {},
   "outputs": [
    {
     "name": "stdout",
     "output_type": "stream",
     "text": [
      "<class 'pandas.core.frame.DataFrame'>\n",
      "Int64Index: 2957 entries, 0 to 2965\n",
      "Data columns (total 6 columns):\n",
      " #   Column       Non-Null Count  Dtype         \n",
      "---  ------       --------------  -----         \n",
      " 0   ID           2957 non-null   int64         \n",
      " 1   date         2957 non-null   datetime64[ns]\n",
      " 2   status       2957 non-null   object        \n",
      " 3   buyer_phone  2957 non-null   int64         \n",
      " 4   buyer_city   2957 non-null   object        \n",
      " 5   grand_total  2957 non-null   float64       \n",
      "dtypes: datetime64[ns](1), float64(1), int64(2), object(2)\n",
      "memory usage: 161.7+ KB\n"
     ]
    }
   ],
   "source": [
    "# take a glance at transactions\n",
    "transactions.info()"
   ]
  },
  {
   "cell_type": "code",
   "execution_count": 4,
   "metadata": {},
   "outputs": [
    {
     "data": {
      "text/html": [
       "<div>\n",
       "<style scoped>\n",
       "    .dataframe tbody tr th:only-of-type {\n",
       "        vertical-align: middle;\n",
       "    }\n",
       "\n",
       "    .dataframe tbody tr th {\n",
       "        vertical-align: top;\n",
       "    }\n",
       "\n",
       "    .dataframe thead th {\n",
       "        text-align: right;\n",
       "    }\n",
       "</style>\n",
       "<table border=\"1\" class=\"dataframe\">\n",
       "  <thead>\n",
       "    <tr style=\"text-align: right;\">\n",
       "      <th></th>\n",
       "      <th>ID</th>\n",
       "      <th>customer_phone</th>\n",
       "      <th>createdDate</th>\n",
       "      <th>lastLoginDate</th>\n",
       "    </tr>\n",
       "  </thead>\n",
       "  <tbody>\n",
       "    <tr>\n",
       "      <th>0</th>\n",
       "      <td>1</td>\n",
       "      <td>556736718</td>\n",
       "      <td>01/08/2025T08:28:25.471Z</td>\n",
       "      <td>01/08/2025T08:28:34.830Z</td>\n",
       "    </tr>\n",
       "    <tr>\n",
       "      <th>1</th>\n",
       "      <td>2</td>\n",
       "      <td>564760303</td>\n",
       "      <td>01/08/2025T08:31:15.696Z</td>\n",
       "      <td>10/09/2025T07:44:25.074Z</td>\n",
       "    </tr>\n",
       "    <tr>\n",
       "      <th>2</th>\n",
       "      <td>3</td>\n",
       "      <td>530903122</td>\n",
       "      <td>01/08/2025T08:58:21.856Z</td>\n",
       "      <td>01/08/2025T08:59:35.462Z</td>\n",
       "    </tr>\n",
       "    <tr>\n",
       "      <th>3</th>\n",
       "      <td>4</td>\n",
       "      <td>506040253</td>\n",
       "      <td>01/08/2025T09:08:19.853Z</td>\n",
       "      <td>01/08/2025T09:09:09.052Z</td>\n",
       "    </tr>\n",
       "    <tr>\n",
       "      <th>4</th>\n",
       "      <td>5</td>\n",
       "      <td>531402212</td>\n",
       "      <td>01/08/2025T09:12:53.093Z</td>\n",
       "      <td>01/08/2025T09:12:59.441Z</td>\n",
       "    </tr>\n",
       "  </tbody>\n",
       "</table>\n",
       "</div>"
      ],
      "text/plain": [
       "   ID  customer_phone               createdDate             lastLoginDate\n",
       "0   1       556736718  01/08/2025T08:28:25.471Z  01/08/2025T08:28:34.830Z\n",
       "1   2       564760303  01/08/2025T08:31:15.696Z  10/09/2025T07:44:25.074Z\n",
       "2   3       530903122  01/08/2025T08:58:21.856Z  01/08/2025T08:59:35.462Z\n",
       "3   4       506040253  01/08/2025T09:08:19.853Z  01/08/2025T09:09:09.052Z\n",
       "4   5       531402212  01/08/2025T09:12:53.093Z  01/08/2025T09:12:59.441Z"
      ]
     },
     "execution_count": 4,
     "metadata": {},
     "output_type": "execute_result"
    }
   ],
   "source": [
    "# load data from excel file\n",
    "customers = pd.read_excel(\"../data/assesment_data.xlsx\", sheet_name=1)\n",
    "customers.rename(columns={\"User ID\":\"ID\", \"mobileNumber\":\"customer_phone\"}, inplace=True)\n",
    "# drop null values (only 1/~80,000 instances)\n",
    "customers.dropna(axis=0, how=\"any\", inplace=True)\n",
    "customers['customer_phone'] = customers.customer_phone.astype(\"int64\")\n",
    "customers.head()"
   ]
  },
  {
   "cell_type": "code",
   "execution_count": 5,
   "metadata": {},
   "outputs": [
    {
     "name": "stdout",
     "output_type": "stream",
     "text": [
      "<class 'pandas.core.frame.DataFrame'>\n",
      "Int64Index: 82851 entries, 0 to 82851\n",
      "Data columns (total 4 columns):\n",
      " #   Column          Non-Null Count  Dtype \n",
      "---  ------          --------------  ----- \n",
      " 0   ID              82851 non-null  int64 \n",
      " 1   customer_phone  82851 non-null  int64 \n",
      " 2   createdDate     82851 non-null  object\n",
      " 3   lastLoginDate   82851 non-null  object\n",
      "dtypes: int64(2), object(2)\n",
      "memory usage: 3.2+ MB\n"
     ]
    }
   ],
   "source": [
    "# take a glance at customers\n",
    "customers.info()"
   ]
  },
  {
   "attachments": {},
   "cell_type": "markdown",
   "metadata": {},
   "source": [
    "Result 1: % of users who had 1+ transaction\n",
    "\n",
    "Assumptions:\n",
    "- There should be a unique 1-to-1 correspondence between phone numbers and user IDs. (turns out to be true almost)"
   ]
  },
  {
   "cell_type": "code",
   "execution_count": 6,
   "metadata": {},
   "outputs": [
    {
     "data": {
      "text/plain": [
       "ID                82851\n",
       "customer_phone    82848\n",
       "createdDate       82842\n",
       "lastLoginDate     82848\n",
       "dtype: int64"
      ]
     },
     "execution_count": 6,
     "metadata": {},
     "output_type": "execute_result"
    }
   ],
   "source": [
    "# validate assumptions\n",
    "\n",
    "customers.nunique()"
   ]
  },
  {
   "attachments": {},
   "cell_type": "markdown",
   "metadata": {},
   "source": [
    "Based on the above, no IDs are repeated, and no customer phone numbers are repeated (except for three). So there is a 1-to-1 correspondence between phone numbers and customers' phone numbers.\n",
    "\n",
    "Moving on to calculating the conversion rate:"
   ]
  },
  {
   "attachments": {},
   "cell_type": "markdown",
   "metadata": {},
   "source": [
    "## Result 2.1: The conversation rate from being customers to paying customers is 2.5%!"
   ]
  },
  {
   "cell_type": "code",
   "execution_count": 7,
   "metadata": {},
   "outputs": [
    {
     "name": "stdout",
     "output_type": "stream",
     "text": [
      "Conversion rate is 2.58%\n"
     ]
    }
   ],
   "source": [
    "# find the number of unique users\n",
    "n_customers = customers.customer_phone.nunique()\n",
    "\n",
    "# find the number of customers who made at least one purchase\n",
    "n_paying_customers = transactions.buyer_phone.nunique()\n",
    "\n",
    "conversion_rate = n_paying_customers / n_customers\n",
    "print(\"Conversion rate is {:.2f}%\".format(conversion_rate * 100)) "
   ]
  },
  {
   "attachments": {},
   "cell_type": "markdown",
   "metadata": {},
   "source": [
    "## Result 2: % of users who purchases their 2nd or 3rd transaction after a refunded transaction vs of users who purchases their 2nd or 3rd  after transferred one.\n",
    "\n",
    "Assumptions:\n",
    "- There are either transfered transactions or refunded transactions\n",
    "- The date column is sorted in ascending order"
   ]
  },
  {
   "cell_type": "code",
   "execution_count": 8,
   "metadata": {},
   "outputs": [
    {
     "data": {
      "text/plain": [
       "Transferred    1565\n",
       "refunded       1392\n",
       "Name: status, dtype: int64"
      ]
     },
     "execution_count": 8,
     "metadata": {},
     "output_type": "execute_result"
    }
   ],
   "source": [
    "# standardize encoding in status column\n",
    "mapper = {\"Refunded\":\"refunded\", \"Delivered - Soum Product\":\"Transferred\",\n",
    "          \"refunded\":\"refunded\", \"Transferred\":\"Transferred\"}\n",
    "\n",
    "transactions['status'] = transactions.status.apply(lambda x: mapper[x])\n",
    "\n",
    "# validate assumptions\n",
    "transactions.status.value_counts()"
   ]
  },
  {
   "attachments": {},
   "cell_type": "markdown",
   "metadata": {},
   "source": [
    "To assess our customers' behavior, we create some new attributes..."
   ]
  },
  {
   "cell_type": "code",
   "execution_count": 9,
   "metadata": {},
   "outputs": [],
   "source": [
    "# create new attribute to assess the behavior of customers\n",
    "\n",
    "def get_behavior(customers, record_length = 3):\n",
    "    \"\"\"\n",
    "\n",
    "    Args:\n",
    "        customers (pd.DataFrame.groups): collection of data frames, one \n",
    "        for each customer who made a purchase. The purchases of a customer\n",
    "        are ordered chronologically.\n",
    "        \n",
    "        record_length (int): number of purchases to keep track of\n",
    "\n",
    "    Returns:\n",
    "        pd.Series[(int, boolean, boolean, boolean)]: series indicating if\n",
    "        the customer accepted the product he/she purchased; null if purchase\n",
    "        was never made.\n",
    "    \"\"\"\n",
    "\n",
    "    customers_behavior = {}\n",
    "    # purchase_record = pd.Series(np.repeat(np.nan, record_length))\n",
    "    \n",
    "    for buyer_number, purchases in customers:\n",
    "        # purchase_record = pd.Series(np.repeat(np.nan, record_length))\n",
    "        purchase_record = []\n",
    "        n_purchases = purchases.shape[0]            \n",
    "        # if n_purchases < 3:\n",
    "        #     continue\n",
    "        # print(n_purchases)\n",
    "        # print(purchases.status)\n",
    "        accepted = purchases.status == \"Transferred\"\n",
    "        # print(accepted)\n",
    "        n_tracked = min(n_purchases, record_length)\n",
    "        purchase_record[0:n_tracked] = accepted[0:n_tracked]\n",
    "        # print(n_tracked)\n",
    "        # print(purchase_record)\n",
    "        try:\n",
    "            purchase_record = purchase_record + list(np.repeat(None, record_length - n_tracked))\n",
    "        except:\n",
    "            print(purchase_record)\n",
    "            print(np.repeat(None, record_length - n_purchases))\n",
    "            print(purchase_record + list(np.repeat(None, record_length - n_tracked)))\n",
    "        \n",
    "        # print(purchase_record)\n",
    "        # print(\"Next iteration ***\")\n",
    "        customers_behavior[buyer_number] = purchase_record\n",
    "    \n",
    "    return customers_behavior"
   ]
  },
  {
   "cell_type": "code",
   "execution_count": 10,
   "metadata": {},
   "outputs": [
    {
     "data": {
      "text/html": [
       "<div>\n",
       "<style scoped>\n",
       "    .dataframe tbody tr th:only-of-type {\n",
       "        vertical-align: middle;\n",
       "    }\n",
       "\n",
       "    .dataframe tbody tr th {\n",
       "        vertical-align: top;\n",
       "    }\n",
       "\n",
       "    .dataframe thead th {\n",
       "        text-align: right;\n",
       "    }\n",
       "</style>\n",
       "<table border=\"1\" class=\"dataframe\">\n",
       "  <thead>\n",
       "    <tr style=\"text-align: right;\">\n",
       "      <th></th>\n",
       "      <th>buyer_phone</th>\n",
       "      <th>purchase_1</th>\n",
       "      <th>purchase_2</th>\n",
       "      <th>purchase_3</th>\n",
       "      <th>0</th>\n",
       "      <th>1</th>\n",
       "      <th>2</th>\n",
       "      <th>3</th>\n",
       "    </tr>\n",
       "  </thead>\n",
       "  <tbody>\n",
       "    <tr>\n",
       "      <th>0</th>\n",
       "      <td>NaN</td>\n",
       "      <td>NaN</td>\n",
       "      <td>NaN</td>\n",
       "      <td>NaN</td>\n",
       "      <td>500421154.0</td>\n",
       "      <td>False</td>\n",
       "      <td>None</td>\n",
       "      <td>None</td>\n",
       "    </tr>\n",
       "    <tr>\n",
       "      <th>1</th>\n",
       "      <td>NaN</td>\n",
       "      <td>NaN</td>\n",
       "      <td>NaN</td>\n",
       "      <td>NaN</td>\n",
       "      <td>500980006.0</td>\n",
       "      <td>True</td>\n",
       "      <td>None</td>\n",
       "      <td>None</td>\n",
       "    </tr>\n",
       "    <tr>\n",
       "      <th>2</th>\n",
       "      <td>NaN</td>\n",
       "      <td>NaN</td>\n",
       "      <td>NaN</td>\n",
       "      <td>NaN</td>\n",
       "      <td>502118629.0</td>\n",
       "      <td>False</td>\n",
       "      <td>None</td>\n",
       "      <td>None</td>\n",
       "    </tr>\n",
       "    <tr>\n",
       "      <th>3</th>\n",
       "      <td>NaN</td>\n",
       "      <td>NaN</td>\n",
       "      <td>NaN</td>\n",
       "      <td>NaN</td>\n",
       "      <td>502192244.0</td>\n",
       "      <td>False</td>\n",
       "      <td>None</td>\n",
       "      <td>None</td>\n",
       "    </tr>\n",
       "    <tr>\n",
       "      <th>4</th>\n",
       "      <td>NaN</td>\n",
       "      <td>NaN</td>\n",
       "      <td>NaN</td>\n",
       "      <td>NaN</td>\n",
       "      <td>502378158.0</td>\n",
       "      <td>False</td>\n",
       "      <td>None</td>\n",
       "      <td>None</td>\n",
       "    </tr>\n",
       "  </tbody>\n",
       "</table>\n",
       "</div>"
      ],
      "text/plain": [
       "   buyer_phone  purchase_1  purchase_2  purchase_3            0      1     2  \\\n",
       "0          NaN         NaN         NaN         NaN  500421154.0  False  None   \n",
       "1          NaN         NaN         NaN         NaN  500980006.0   True  None   \n",
       "2          NaN         NaN         NaN         NaN  502118629.0  False  None   \n",
       "3          NaN         NaN         NaN         NaN  502192244.0  False  None   \n",
       "4          NaN         NaN         NaN         NaN  502378158.0  False  None   \n",
       "\n",
       "      3  \n",
       "0  None  \n",
       "1  None  \n",
       "2  None  \n",
       "3  None  \n",
       "4  None  "
      ]
     },
     "execution_count": 10,
     "metadata": {},
     "output_type": "execute_result"
    }
   ],
   "source": [
    "# add new attributes\n",
    "groups = transactions.groupby([\"buyer_phone\"])\n",
    "results = get_behavior(groups, 3)\n",
    "df_new = pd.DataFrame({\"buyer_phone\":[],\"purchase_1\":[], \"purchase_2\":[], \"purchase_3\":[]})\n",
    "\n",
    "for buyer_phone, past_behavior in results.items():\n",
    "\n",
    "    df_new = df_new.append(pd.Series([buyer_phone]+past_behavior), ignore_index=True)\n",
    "    \n",
    "df_new.head(5)    \n"
   ]
  },
  {
   "cell_type": "code",
   "execution_count": 11,
   "metadata": {},
   "outputs": [
    {
     "data": {
      "text/html": [
       "<div>\n",
       "<style scoped>\n",
       "    .dataframe tbody tr th:only-of-type {\n",
       "        vertical-align: middle;\n",
       "    }\n",
       "\n",
       "    .dataframe tbody tr th {\n",
       "        vertical-align: top;\n",
       "    }\n",
       "\n",
       "    .dataframe thead th {\n",
       "        text-align: right;\n",
       "    }\n",
       "</style>\n",
       "<table border=\"1\" class=\"dataframe\">\n",
       "  <thead>\n",
       "    <tr style=\"text-align: right;\">\n",
       "      <th></th>\n",
       "      <th>buyer_phone</th>\n",
       "      <th>purchase_1</th>\n",
       "      <th>purchase_2</th>\n",
       "      <th>purchase_3</th>\n",
       "    </tr>\n",
       "  </thead>\n",
       "  <tbody>\n",
       "    <tr>\n",
       "      <th>0</th>\n",
       "      <td>500421154</td>\n",
       "      <td>False</td>\n",
       "      <td>None</td>\n",
       "      <td>None</td>\n",
       "    </tr>\n",
       "    <tr>\n",
       "      <th>1</th>\n",
       "      <td>500980006</td>\n",
       "      <td>True</td>\n",
       "      <td>None</td>\n",
       "      <td>None</td>\n",
       "    </tr>\n",
       "    <tr>\n",
       "      <th>2</th>\n",
       "      <td>502118629</td>\n",
       "      <td>False</td>\n",
       "      <td>None</td>\n",
       "      <td>None</td>\n",
       "    </tr>\n",
       "    <tr>\n",
       "      <th>3</th>\n",
       "      <td>502192244</td>\n",
       "      <td>False</td>\n",
       "      <td>None</td>\n",
       "      <td>None</td>\n",
       "    </tr>\n",
       "    <tr>\n",
       "      <th>4</th>\n",
       "      <td>502378158</td>\n",
       "      <td>False</td>\n",
       "      <td>None</td>\n",
       "      <td>None</td>\n",
       "    </tr>\n",
       "  </tbody>\n",
       "</table>\n",
       "</div>"
      ],
      "text/plain": [
       "   buyer_phone purchase_1 purchase_2 purchase_3\n",
       "0    500421154      False       None       None\n",
       "1    500980006       True       None       None\n",
       "2    502118629      False       None       None\n",
       "3    502192244      False       None       None\n",
       "4    502378158      False       None       None"
      ]
     },
     "execution_count": 11,
     "metadata": {},
     "output_type": "execute_result"
    }
   ],
   "source": [
    "df_new.iloc[:,0:4] = df_new.iloc[:,4:]\n",
    "df_new.drop(columns=[0,1,2,3], inplace=True)\n",
    "df_new['buyer_phone'] = df_new.buyer_phone.astype('int')\n",
    "df_new.head()"
   ]
  },
  {
   "cell_type": "code",
   "execution_count": 12,
   "metadata": {},
   "outputs": [
    {
     "data": {
      "text/html": [
       "<div>\n",
       "<style scoped>\n",
       "    .dataframe tbody tr th:only-of-type {\n",
       "        vertical-align: middle;\n",
       "    }\n",
       "\n",
       "    .dataframe tbody tr th {\n",
       "        vertical-align: top;\n",
       "    }\n",
       "\n",
       "    .dataframe thead th {\n",
       "        text-align: right;\n",
       "    }\n",
       "</style>\n",
       "<table border=\"1\" class=\"dataframe\">\n",
       "  <thead>\n",
       "    <tr style=\"text-align: right;\">\n",
       "      <th></th>\n",
       "      <th>ID</th>\n",
       "      <th>date</th>\n",
       "      <th>status</th>\n",
       "      <th>buyer_phone</th>\n",
       "      <th>buyer_city</th>\n",
       "      <th>grand_total</th>\n",
       "      <th>purchase_1</th>\n",
       "      <th>purchase_2</th>\n",
       "      <th>purchase_3</th>\n",
       "    </tr>\n",
       "  </thead>\n",
       "  <tbody>\n",
       "    <tr>\n",
       "      <th>0</th>\n",
       "      <td>3419</td>\n",
       "      <td>2025-12-10 12:15:59.904</td>\n",
       "      <td>refunded</td>\n",
       "      <td>500421154</td>\n",
       "      <td>Jeddah</td>\n",
       "      <td>4332.000</td>\n",
       "      <td>False</td>\n",
       "      <td>None</td>\n",
       "      <td>None</td>\n",
       "    </tr>\n",
       "    <tr>\n",
       "      <th>1</th>\n",
       "      <td>3064</td>\n",
       "      <td>2025-12-04 00:00:00.000</td>\n",
       "      <td>Transferred</td>\n",
       "      <td>500980006</td>\n",
       "      <td>Riyadh</td>\n",
       "      <td>5425.830</td>\n",
       "      <td>True</td>\n",
       "      <td>None</td>\n",
       "      <td>None</td>\n",
       "    </tr>\n",
       "    <tr>\n",
       "      <th>2</th>\n",
       "      <td>3250</td>\n",
       "      <td>2025-12-07 12:15:59.904</td>\n",
       "      <td>refunded</td>\n",
       "      <td>502118629</td>\n",
       "      <td>Khobar</td>\n",
       "      <td>30.153</td>\n",
       "      <td>False</td>\n",
       "      <td>None</td>\n",
       "      <td>None</td>\n",
       "    </tr>\n",
       "    <tr>\n",
       "      <th>3</th>\n",
       "      <td>3126</td>\n",
       "      <td>2025-12-05 00:00:00.000</td>\n",
       "      <td>refunded</td>\n",
       "      <td>502192244</td>\n",
       "      <td>Dammam</td>\n",
       "      <td>20795.766</td>\n",
       "      <td>False</td>\n",
       "      <td>None</td>\n",
       "      <td>None</td>\n",
       "    </tr>\n",
       "    <tr>\n",
       "      <th>4</th>\n",
       "      <td>3325</td>\n",
       "      <td>2025-12-08 23:15:59.616</td>\n",
       "      <td>refunded</td>\n",
       "      <td>502378158</td>\n",
       "      <td>Rafha</td>\n",
       "      <td>5033.157</td>\n",
       "      <td>False</td>\n",
       "      <td>None</td>\n",
       "      <td>None</td>\n",
       "    </tr>\n",
       "  </tbody>\n",
       "</table>\n",
       "</div>"
      ],
      "text/plain": [
       "     ID                    date       status  buyer_phone buyer_city  \\\n",
       "0  3419 2025-12-10 12:15:59.904     refunded    500421154     Jeddah   \n",
       "1  3064 2025-12-04 00:00:00.000  Transferred    500980006     Riyadh   \n",
       "2  3250 2025-12-07 12:15:59.904     refunded    502118629     Khobar   \n",
       "3  3126 2025-12-05 00:00:00.000     refunded    502192244     Dammam   \n",
       "4  3325 2025-12-08 23:15:59.616     refunded    502378158      Rafha   \n",
       "\n",
       "   grand_total purchase_1 purchase_2 purchase_3  \n",
       "0     4332.000      False       None       None  \n",
       "1     5425.830       True       None       None  \n",
       "2       30.153      False       None       None  \n",
       "3    20795.766      False       None       None  \n",
       "4     5033.157      False       None       None  "
      ]
     },
     "execution_count": 12,
     "metadata": {},
     "output_type": "execute_result"
    }
   ],
   "source": [
    "# transactions.drop(columns=['purchase_1',\t'purchase_2', 'purchase_3'], inplace=True)\n",
    "purchase_df = transactions.merge(df_new, 'right', on='buyer_phone')\n",
    "# transactions[['purchase_1',\t'purchase_2', 'purchase_3']].sum()\n",
    "purchase_df.head()"
   ]
  },
  {
   "cell_type": "code",
   "execution_count": 13,
   "metadata": {},
   "outputs": [
    {
     "name": "stdout",
     "output_type": "stream",
     "text": [
      "<class 'pandas.core.frame.DataFrame'>\n",
      "Int64Index: 2957 entries, 0 to 2956\n",
      "Data columns (total 9 columns):\n",
      " #   Column       Non-Null Count  Dtype         \n",
      "---  ------       --------------  -----         \n",
      " 0   ID           2957 non-null   int64         \n",
      " 1   date         2957 non-null   datetime64[ns]\n",
      " 2   status       2957 non-null   object        \n",
      " 3   buyer_phone  2957 non-null   int64         \n",
      " 4   buyer_city   2957 non-null   object        \n",
      " 5   grand_total  2957 non-null   float64       \n",
      " 6   purchase_1   2957 non-null   object        \n",
      " 7   purchase_2   1179 non-null   object        \n",
      " 8   purchase_3   721 non-null    object        \n",
      "dtypes: datetime64[ns](1), float64(1), int64(2), object(5)\n",
      "memory usage: 231.0+ KB\n"
     ]
    }
   ],
   "source": [
    "# analyze the purchase behavior of our customers\n",
    "purchase_df.info()"
   ]
  },
  {
   "cell_type": "code",
   "execution_count": 14,
   "metadata": {},
   "outputs": [],
   "source": [
    "# define magic numbers\n",
    "\n",
    "# assess behavior using first 3 purchases for each customer (if available)\n",
    "# ****************************************************************\n",
    "# show that 3 is 95th percentile\n",
    "N_FIRST = 3"
   ]
  },
  {
   "cell_type": "code",
   "execution_count": 15,
   "metadata": {},
   "outputs": [
    {
     "data": {
      "text/html": [
       "<div>\n",
       "<style scoped>\n",
       "    .dataframe tbody tr th:only-of-type {\n",
       "        vertical-align: middle;\n",
       "    }\n",
       "\n",
       "    .dataframe tbody tr th {\n",
       "        vertical-align: top;\n",
       "    }\n",
       "\n",
       "    .dataframe thead th {\n",
       "        text-align: right;\n",
       "    }\n",
       "</style>\n",
       "<table border=\"1\" class=\"dataframe\">\n",
       "  <thead>\n",
       "    <tr style=\"text-align: right;\">\n",
       "      <th></th>\n",
       "      <th>ID</th>\n",
       "      <th>date</th>\n",
       "      <th>status</th>\n",
       "      <th>buyer_phone</th>\n",
       "      <th>buyer_city</th>\n",
       "      <th>grand_total</th>\n",
       "      <th>purchase_1</th>\n",
       "      <th>purchase_2</th>\n",
       "      <th>purchase_3</th>\n",
       "    </tr>\n",
       "  </thead>\n",
       "  <tbody>\n",
       "    <tr>\n",
       "      <th>0</th>\n",
       "      <td>3419</td>\n",
       "      <td>2025-12-10 12:15:59.904</td>\n",
       "      <td>refunded</td>\n",
       "      <td>500421154</td>\n",
       "      <td>Jeddah</td>\n",
       "      <td>4332.000</td>\n",
       "      <td>False</td>\n",
       "      <td>None</td>\n",
       "      <td>None</td>\n",
       "    </tr>\n",
       "    <tr>\n",
       "      <th>1</th>\n",
       "      <td>3064</td>\n",
       "      <td>2025-12-04 00:00:00.000</td>\n",
       "      <td>Transferred</td>\n",
       "      <td>500980006</td>\n",
       "      <td>Riyadh</td>\n",
       "      <td>5425.830</td>\n",
       "      <td>True</td>\n",
       "      <td>None</td>\n",
       "      <td>None</td>\n",
       "    </tr>\n",
       "    <tr>\n",
       "      <th>2</th>\n",
       "      <td>3250</td>\n",
       "      <td>2025-12-07 12:15:59.904</td>\n",
       "      <td>refunded</td>\n",
       "      <td>502118629</td>\n",
       "      <td>Khobar</td>\n",
       "      <td>30.153</td>\n",
       "      <td>False</td>\n",
       "      <td>None</td>\n",
       "      <td>None</td>\n",
       "    </tr>\n",
       "    <tr>\n",
       "      <th>3</th>\n",
       "      <td>3126</td>\n",
       "      <td>2025-12-05 00:00:00.000</td>\n",
       "      <td>refunded</td>\n",
       "      <td>502192244</td>\n",
       "      <td>Dammam</td>\n",
       "      <td>20795.766</td>\n",
       "      <td>False</td>\n",
       "      <td>None</td>\n",
       "      <td>None</td>\n",
       "    </tr>\n",
       "    <tr>\n",
       "      <th>4</th>\n",
       "      <td>3325</td>\n",
       "      <td>2025-12-08 23:15:59.616</td>\n",
       "      <td>refunded</td>\n",
       "      <td>502378158</td>\n",
       "      <td>Rafha</td>\n",
       "      <td>5033.157</td>\n",
       "      <td>False</td>\n",
       "      <td>None</td>\n",
       "      <td>None</td>\n",
       "    </tr>\n",
       "  </tbody>\n",
       "</table>\n",
       "</div>"
      ],
      "text/plain": [
       "     ID                    date       status  buyer_phone buyer_city  \\\n",
       "0  3419 2025-12-10 12:15:59.904     refunded    500421154     Jeddah   \n",
       "1  3064 2025-12-04 00:00:00.000  Transferred    500980006     Riyadh   \n",
       "2  3250 2025-12-07 12:15:59.904     refunded    502118629     Khobar   \n",
       "3  3126 2025-12-05 00:00:00.000     refunded    502192244     Dammam   \n",
       "4  3325 2025-12-08 23:15:59.616     refunded    502378158      Rafha   \n",
       "\n",
       "   grand_total purchase_1 purchase_2 purchase_3  \n",
       "0     4332.000      False       None       None  \n",
       "1     5425.830       True       None       None  \n",
       "2       30.153      False       None       None  \n",
       "3    20795.766      False       None       None  \n",
       "4     5033.157      False       None       None  "
      ]
     },
     "execution_count": 15,
     "metadata": {},
     "output_type": "execute_result"
    }
   ],
   "source": [
    "purchase_df.head()"
   ]
  },
  {
   "cell_type": "code",
   "execution_count": 16,
   "metadata": {},
   "outputs": [
    {
     "data": {
      "text/html": [
       "<div>\n",
       "<style scoped>\n",
       "    .dataframe tbody tr th:only-of-type {\n",
       "        vertical-align: middle;\n",
       "    }\n",
       "\n",
       "    .dataframe tbody tr th {\n",
       "        vertical-align: top;\n",
       "    }\n",
       "\n",
       "    .dataframe thead th {\n",
       "        text-align: right;\n",
       "    }\n",
       "</style>\n",
       "<table border=\"1\" class=\"dataframe\">\n",
       "  <thead>\n",
       "    <tr style=\"text-align: right;\">\n",
       "      <th></th>\n",
       "      <th>ID</th>\n",
       "      <th>date</th>\n",
       "      <th>status</th>\n",
       "      <th>buyer_phone</th>\n",
       "      <th>buyer_city</th>\n",
       "      <th>grand_total</th>\n",
       "      <th>purchase_1</th>\n",
       "      <th>purchase_2</th>\n",
       "      <th>purchase_3</th>\n",
       "      <th>purchase_1_status</th>\n",
       "      <th>purchase_2_status</th>\n",
       "      <th>purchase_3_status</th>\n",
       "      <th>makes_second_purchase</th>\n",
       "      <th>makes_third_purchase</th>\n",
       "    </tr>\n",
       "  </thead>\n",
       "  <tbody>\n",
       "    <tr>\n",
       "      <th>0</th>\n",
       "      <td>3419</td>\n",
       "      <td>2025-12-10 12:15:59.904</td>\n",
       "      <td>refunded</td>\n",
       "      <td>500421154</td>\n",
       "      <td>Jeddah</td>\n",
       "      <td>4332.00</td>\n",
       "      <td>False</td>\n",
       "      <td>None</td>\n",
       "      <td>None</td>\n",
       "      <td>Returned</td>\n",
       "      <td>None</td>\n",
       "      <td>None</td>\n",
       "      <td>False</td>\n",
       "      <td>False</td>\n",
       "    </tr>\n",
       "    <tr>\n",
       "      <th>1</th>\n",
       "      <td>3064</td>\n",
       "      <td>2025-12-04 00:00:00.000</td>\n",
       "      <td>Transferred</td>\n",
       "      <td>500980006</td>\n",
       "      <td>Riyadh</td>\n",
       "      <td>5425.83</td>\n",
       "      <td>True</td>\n",
       "      <td>None</td>\n",
       "      <td>None</td>\n",
       "      <td>Accepted</td>\n",
       "      <td>None</td>\n",
       "      <td>None</td>\n",
       "      <td>False</td>\n",
       "      <td>False</td>\n",
       "    </tr>\n",
       "  </tbody>\n",
       "</table>\n",
       "</div>"
      ],
      "text/plain": [
       "     ID                    date       status  buyer_phone buyer_city  \\\n",
       "0  3419 2025-12-10 12:15:59.904     refunded    500421154     Jeddah   \n",
       "1  3064 2025-12-04 00:00:00.000  Transferred    500980006     Riyadh   \n",
       "\n",
       "   grand_total purchase_1 purchase_2 purchase_3 purchase_1_status  \\\n",
       "0      4332.00      False       None       None          Returned   \n",
       "1      5425.83       True       None       None          Accepted   \n",
       "\n",
       "  purchase_2_status purchase_3_status  makes_second_purchase  \\\n",
       "0              None              None                  False   \n",
       "1              None              None                  False   \n",
       "\n",
       "   makes_third_purchase  \n",
       "0                 False  \n",
       "1                 False  "
      ]
     },
     "execution_count": 16,
     "metadata": {},
     "output_type": "execute_result"
    }
   ],
   "source": [
    "# add additional attributes (for beteer interpretability)\n",
    "mapper = {True:'Accepted', False:'Returned'}\n",
    "purchase_df['purchase_1_status'] = purchase_df.purchase_1.apply(lambda x: mapper[x] if not pd.isna(x) else None)\n",
    "purchase_df['purchase_2_status'] = purchase_df.purchase_2.apply(lambda x: mapper[x] if not pd.isna(x) else None)\n",
    "purchase_df['purchase_3_status'] = purchase_df.purchase_3.apply(lambda x: mapper[x] if not pd.isna(x) else None)\n",
    "purchase_df['makes_second_purchase'] = ~ purchase_df.purchase_2.isna()\n",
    "purchase_df['makes_third_purchase'] = ~ purchase_df.purchase_3.isna()\n",
    "purchase_df.head(2)"
   ]
  },
  {
   "attachments": {},
   "cell_type": "markdown",
   "metadata": {},
   "source": [
    "### Result 2.1: Customers are just as likely to make a second purchase regardless of first purchase status."
   ]
  },
  {
   "cell_type": "code",
   "execution_count": 17,
   "metadata": {},
   "outputs": [
    {
     "data": {
      "text/html": [
       "<div>\n",
       "<style scoped>\n",
       "    .dataframe tbody tr th:only-of-type {\n",
       "        vertical-align: middle;\n",
       "    }\n",
       "\n",
       "    .dataframe tbody tr th {\n",
       "        vertical-align: top;\n",
       "    }\n",
       "\n",
       "    .dataframe thead th {\n",
       "        text-align: right;\n",
       "    }\n",
       "</style>\n",
       "<table border=\"1\" class=\"dataframe\">\n",
       "  <thead>\n",
       "    <tr style=\"text-align: right;\">\n",
       "      <th>makes_second_purchase</th>\n",
       "      <th>False</th>\n",
       "      <th>True</th>\n",
       "    </tr>\n",
       "    <tr>\n",
       "      <th>purchase_1_status</th>\n",
       "      <th></th>\n",
       "      <th></th>\n",
       "    </tr>\n",
       "  </thead>\n",
       "  <tbody>\n",
       "    <tr>\n",
       "      <th>Accepted</th>\n",
       "      <td>83.034111</td>\n",
       "      <td>16.965889</td>\n",
       "    </tr>\n",
       "    <tr>\n",
       "      <th>Returned</th>\n",
       "      <td>83.300781</td>\n",
       "      <td>16.699219</td>\n",
       "    </tr>\n",
       "  </tbody>\n",
       "</table>\n",
       "</div>"
      ],
      "text/plain": [
       "makes_second_purchase      False       True\n",
       "purchase_1_status                          \n",
       "Accepted               83.034111  16.965889\n",
       "Returned               83.300781  16.699219"
      ]
     },
     "execution_count": 17,
     "metadata": {},
     "output_type": "execute_result"
    }
   ],
   "source": [
    "# make sure not to count same customers multiple times\n",
    "purchase_df_unique = purchase_df.loc[~ purchase_df.buyer_phone.duplicated()]\n",
    "\n",
    "result = purchase_df_unique.groupby('purchase_1_status').apply(lambda x:  x.makes_second_purchase.value_counts() * 100 / float(x.shape[0]))\n",
    "result"
   ]
  },
  {
   "attachments": {},
   "cell_type": "markdown",
   "metadata": {},
   "source": [
    "## Result 2.2: Customers who have recently returned an item are slightly (~5%) more likely to make an additional purchase.\n",
    "(doesn't apply to customers who returned the first item they bought as shown above.)"
   ]
  },
  {
   "cell_type": "code",
   "execution_count": 18,
   "metadata": {},
   "outputs": [
    {
     "data": {
      "text/html": [
       "<div>\n",
       "<style scoped>\n",
       "    .dataframe tbody tr th:only-of-type {\n",
       "        vertical-align: middle;\n",
       "    }\n",
       "\n",
       "    .dataframe tbody tr th {\n",
       "        vertical-align: top;\n",
       "    }\n",
       "\n",
       "    .dataframe thead th {\n",
       "        text-align: right;\n",
       "    }\n",
       "</style>\n",
       "<table border=\"1\" class=\"dataframe\">\n",
       "  <thead>\n",
       "    <tr style=\"text-align: right;\">\n",
       "      <th></th>\n",
       "      <th>makes_third_purchase</th>\n",
       "      <th>False</th>\n",
       "      <th>True</th>\n",
       "    </tr>\n",
       "    <tr>\n",
       "      <th>purchase_1_status</th>\n",
       "      <th>purchase_2_status</th>\n",
       "      <th></th>\n",
       "      <th></th>\n",
       "    </tr>\n",
       "  </thead>\n",
       "  <tbody>\n",
       "    <tr>\n",
       "      <th rowspan=\"2\" valign=\"top\">Accepted</th>\n",
       "      <th>Accepted</th>\n",
       "      <td>0.690909</td>\n",
       "      <td>0.309091</td>\n",
       "    </tr>\n",
       "    <tr>\n",
       "      <th>Returned</th>\n",
       "      <td>0.594937</td>\n",
       "      <td>0.405063</td>\n",
       "    </tr>\n",
       "    <tr>\n",
       "      <th rowspan=\"2\" valign=\"top\">Returned</th>\n",
       "      <th>Accepted</th>\n",
       "      <td>0.625000</td>\n",
       "      <td>0.375000</td>\n",
       "    </tr>\n",
       "    <tr>\n",
       "      <th>Returned</th>\n",
       "      <td>0.614458</td>\n",
       "      <td>0.385542</td>\n",
       "    </tr>\n",
       "  </tbody>\n",
       "</table>\n",
       "</div>"
      ],
      "text/plain": [
       "makes_third_purchase                    False      True\n",
       "purchase_1_status purchase_2_status                    \n",
       "Accepted          Accepted           0.690909  0.309091\n",
       "                  Returned           0.594937  0.405063\n",
       "Returned          Accepted           0.625000  0.375000\n",
       "                  Returned           0.614458  0.385542"
      ]
     },
     "execution_count": 18,
     "metadata": {},
     "output_type": "execute_result"
    }
   ],
   "source": [
    "result = purchase_df_unique.groupby(['purchase_1_status', 'purchase_2_status']).apply(\n",
    "    lambda x:  x.makes_third_purchase.value_counts() / float(x.shape[0]))\n",
    "result"
   ]
  },
  {
   "attachments": {},
   "cell_type": "markdown",
   "metadata": {},
   "source": [
    "### Result 2.3: Customers who have recently returned an item are unlikely to return the next item they buy (50% v.s. 65%)."
   ]
  },
  {
   "cell_type": "code",
   "execution_count": 19,
   "metadata": {},
   "outputs": [
    {
     "data": {
      "text/html": [
       "<div>\n",
       "<style scoped>\n",
       "    .dataframe tbody tr th:only-of-type {\n",
       "        vertical-align: middle;\n",
       "    }\n",
       "\n",
       "    .dataframe tbody tr th {\n",
       "        vertical-align: top;\n",
       "    }\n",
       "\n",
       "    .dataframe thead th {\n",
       "        text-align: right;\n",
       "    }\n",
       "</style>\n",
       "<table border=\"1\" class=\"dataframe\">\n",
       "  <thead>\n",
       "    <tr style=\"text-align: right;\">\n",
       "      <th></th>\n",
       "      <th>purchase_3_status</th>\n",
       "      <th>Accepted</th>\n",
       "      <th>Returned</th>\n",
       "    </tr>\n",
       "    <tr>\n",
       "      <th>purchase_1_status</th>\n",
       "      <th>purchase_2_status</th>\n",
       "      <th></th>\n",
       "      <th></th>\n",
       "    </tr>\n",
       "  </thead>\n",
       "  <tbody>\n",
       "    <tr>\n",
       "      <th rowspan=\"2\" valign=\"top\">Accepted</th>\n",
       "      <th>Accepted</th>\n",
       "      <td>0.529412</td>\n",
       "      <td>0.470588</td>\n",
       "    </tr>\n",
       "    <tr>\n",
       "      <th>Returned</th>\n",
       "      <td>0.656250</td>\n",
       "      <td>0.343750</td>\n",
       "    </tr>\n",
       "    <tr>\n",
       "      <th rowspan=\"2\" valign=\"top\">Returned</th>\n",
       "      <th>Accepted</th>\n",
       "      <td>0.515152</td>\n",
       "      <td>0.484848</td>\n",
       "    </tr>\n",
       "    <tr>\n",
       "      <th>Returned</th>\n",
       "      <td>0.687500</td>\n",
       "      <td>0.312500</td>\n",
       "    </tr>\n",
       "  </tbody>\n",
       "</table>\n",
       "</div>"
      ],
      "text/plain": [
       "purchase_3_status                    Accepted  Returned\n",
       "purchase_1_status purchase_2_status                    \n",
       "Accepted          Accepted           0.529412  0.470588\n",
       "                  Returned           0.656250  0.343750\n",
       "Returned          Accepted           0.515152  0.484848\n",
       "                  Returned           0.687500  0.312500"
      ]
     },
     "execution_count": 19,
     "metadata": {},
     "output_type": "execute_result"
    }
   ],
   "source": [
    "result = purchase_df_unique.groupby(['purchase_1_status', 'purchase_2_status']).apply(\n",
    "    lambda x:  x.purchase_3_status.value_counts() / float(x.purchase_3_status.count()))\n",
    "result"
   ]
  },
  {
   "attachments": {},
   "cell_type": "markdown",
   "metadata": {},
   "source": [
    "# Result 3\n",
    "### What were the top 3 cities in terms of buying in the last 10 months? "
   ]
  },
  {
   "cell_type": "code",
   "execution_count": 20,
   "metadata": {},
   "outputs": [
    {
     "name": "stdout",
     "output_type": "stream",
     "text": [
      "2025-08-19 00:00:00\n",
      "2025-12-13 12:15:59.904000\n"
     ]
    }
   ],
   "source": [
    "# create months list\n",
    "print(transactions.date.min())\n",
    "print(transactions.date.max())\n",
    "# create attributes for month and day of transactions (year is always 2025)\n",
    "transactions['month'] = transactions.date.apply(lambda d: d.month)\n",
    "transactions['day'] = transactions.date.apply(lambda d: d.day)"
   ]
  },
  {
   "cell_type": "code",
   "execution_count": 21,
   "metadata": {},
   "outputs": [
    {
     "data": {
      "text/plain": [
       "0     8\n",
       "1     9\n",
       "2    10\n",
       "3    11\n",
       "4    12\n",
       "dtype: int64"
      ]
     },
     "execution_count": 21,
     "metadata": {},
     "output_type": "execute_result"
    }
   ],
   "source": [
    "# create a list containing the months in the data set\n",
    "months = pd.Series(transactions.month.loc[transactions.month.unique()].index)\n",
    "months "
   ]
  },
  {
   "cell_type": "code",
   "execution_count": 22,
   "metadata": {},
   "outputs": [
    {
     "data": {
      "text/html": [
       "<div>\n",
       "<style scoped>\n",
       "    .dataframe tbody tr th:only-of-type {\n",
       "        vertical-align: middle;\n",
       "    }\n",
       "\n",
       "    .dataframe tbody tr th {\n",
       "        vertical-align: top;\n",
       "    }\n",
       "\n",
       "    .dataframe thead th {\n",
       "        text-align: right;\n",
       "    }\n",
       "</style>\n",
       "<table border=\"1\" class=\"dataframe\">\n",
       "  <thead>\n",
       "    <tr style=\"text-align: right;\">\n",
       "      <th></th>\n",
       "      <th></th>\n",
       "      <th>buyer_city</th>\n",
       "      <th>proportion</th>\n",
       "    </tr>\n",
       "  </thead>\n",
       "  <tbody>\n",
       "    <tr>\n",
       "      <th rowspan=\"3\" valign=\"top\">8</th>\n",
       "      <th>0</th>\n",
       "      <td>Riyadh</td>\n",
       "      <td>0.296000</td>\n",
       "    </tr>\n",
       "    <tr>\n",
       "      <th>1</th>\n",
       "      <td>Ras Tannurah</td>\n",
       "      <td>0.128000</td>\n",
       "    </tr>\n",
       "    <tr>\n",
       "      <th>2</th>\n",
       "      <td>Al Qassim</td>\n",
       "      <td>0.088000</td>\n",
       "    </tr>\n",
       "    <tr>\n",
       "      <th rowspan=\"3\" valign=\"top\">9</th>\n",
       "      <th>0</th>\n",
       "      <td>Riyadh</td>\n",
       "      <td>0.294900</td>\n",
       "    </tr>\n",
       "    <tr>\n",
       "      <th>1</th>\n",
       "      <td>Al Qassim</td>\n",
       "      <td>0.119734</td>\n",
       "    </tr>\n",
       "    <tr>\n",
       "      <th>2</th>\n",
       "      <td>Ras Tannurah</td>\n",
       "      <td>0.104213</td>\n",
       "    </tr>\n",
       "    <tr>\n",
       "      <th rowspan=\"3\" valign=\"top\">10</th>\n",
       "      <th>0</th>\n",
       "      <td>Riyadh</td>\n",
       "      <td>0.273731</td>\n",
       "    </tr>\n",
       "    <tr>\n",
       "      <th>1</th>\n",
       "      <td>Al Qassim</td>\n",
       "      <td>0.103753</td>\n",
       "    </tr>\n",
       "    <tr>\n",
       "      <th>2</th>\n",
       "      <td>Ras Tannurah</td>\n",
       "      <td>0.089404</td>\n",
       "    </tr>\n",
       "    <tr>\n",
       "      <th rowspan=\"3\" valign=\"top\">11</th>\n",
       "      <th>0</th>\n",
       "      <td>Riyadh</td>\n",
       "      <td>0.314607</td>\n",
       "    </tr>\n",
       "    <tr>\n",
       "      <th>1</th>\n",
       "      <td>Ras Tannurah</td>\n",
       "      <td>0.097753</td>\n",
       "    </tr>\n",
       "    <tr>\n",
       "      <th>2</th>\n",
       "      <td>Al Qassim</td>\n",
       "      <td>0.095506</td>\n",
       "    </tr>\n",
       "    <tr>\n",
       "      <th rowspan=\"3\" valign=\"top\">12</th>\n",
       "      <th>0</th>\n",
       "      <td>Riyadh</td>\n",
       "      <td>0.264957</td>\n",
       "    </tr>\n",
       "    <tr>\n",
       "      <th>1</th>\n",
       "      <td>Ras Tannurah</td>\n",
       "      <td>0.097436</td>\n",
       "    </tr>\n",
       "    <tr>\n",
       "      <th>2</th>\n",
       "      <td>Al Qassim</td>\n",
       "      <td>0.092308</td>\n",
       "    </tr>\n",
       "  </tbody>\n",
       "</table>\n",
       "</div>"
      ],
      "text/plain": [
       "        buyer_city  proportion\n",
       "8  0        Riyadh    0.296000\n",
       "   1  Ras Tannurah    0.128000\n",
       "   2     Al Qassim    0.088000\n",
       "9  0        Riyadh    0.294900\n",
       "   1     Al Qassim    0.119734\n",
       "   2  Ras Tannurah    0.104213\n",
       "10 0        Riyadh    0.273731\n",
       "   1     Al Qassim    0.103753\n",
       "   2  Ras Tannurah    0.089404\n",
       "11 0        Riyadh    0.314607\n",
       "   1  Ras Tannurah    0.097753\n",
       "   2     Al Qassim    0.095506\n",
       "12 0        Riyadh    0.264957\n",
       "   1  Ras Tannurah    0.097436\n",
       "   2     Al Qassim    0.092308"
      ]
     },
     "execution_count": 22,
     "metadata": {},
     "output_type": "execute_result"
    }
   ],
   "source": [
    "city_month = transactions.groupby(['month', 'buyer_city']).count()[['ID']]\n",
    "city_month_pctgs = city_month.groupby(level=0).apply(lambda x: x / x.sum())\n",
    "\n",
    "months_unique = city_month_pctgs.index.unique(level='month')\n",
    "index = pd.MultiIndex.from_product([list(months_unique), list(range(3))])\n",
    "props = pd.DataFrame(columns=['buyer_city', 'proportion'], index=index)\n",
    "\n",
    "for month in months_unique:\n",
    "    count = 0\n",
    "    for i in range(N_FIRST):\n",
    "        proportion_city = city_month_pctgs.loc[month].sort_values(by='ID', ascending=False).iloc[i]\n",
    "        \n",
    "        props.loc[(month, i), 'buyer_city'] = proportion_city.name\n",
    "        props.loc[(month, i), 'proportion'] = proportion_city.iloc[0]\n",
    "\n",
    "    \n",
    "best_cities = props\n",
    "best_cities['proportion'] = best_cities.proportion.astype('float')\n",
    "best_cities"
   ]
  },
  {
   "cell_type": "code",
   "execution_count": 23,
   "metadata": {},
   "outputs": [
    {
     "data": {
      "text/plain": [
       "Text(0.5, 1.0, 'Proportion of sales in different cities (out of total # of sales)')"
      ]
     },
     "execution_count": 23,
     "metadata": {},
     "output_type": "execute_result"
    },
    {
     "data": {
      "image/png": "[encoded data removed]",
      "text/plain": [
       "<Figure size 640x480 with 1 Axes>"
      ]
     },
     "metadata": {},
     "output_type": "display_data"
    }
   ],
   "source": [
    "# plot proportion out of total number of sales\n",
    "month = best_cities.index.get_level_values(0)\n",
    "\n",
    "# make plot\n",
    "sns.lineplot(x=month, y=best_cities.proportion*100, hue=best_cities.buyer_city)\n",
    "\n",
    "plt.xticks([8,9,10,11,12], labels=['August', 'September', 'October', 'November', 'December'])\n",
    "plt.legend()\n",
    "plt.ylabel(\"Proportion of sales %\")\n",
    "plt.title(\"Proportion of sales in different cities (out of total # of sales)\")"
   ]
  },
  {
   "attachments": {},
   "cell_type": "markdown",
   "metadata": {},
   "source": [
    "### Could the graph look different for proportion of total sales values? "
   ]
  },
  {
   "cell_type": "code",
   "execution_count": 24,
   "metadata": {},
   "outputs": [
    {
     "data": {
      "text/html": [
       "<div>\n",
       "<style scoped>\n",
       "    .dataframe tbody tr th:only-of-type {\n",
       "        vertical-align: middle;\n",
       "    }\n",
       "\n",
       "    .dataframe tbody tr th {\n",
       "        vertical-align: top;\n",
       "    }\n",
       "\n",
       "    .dataframe thead th {\n",
       "        text-align: right;\n",
       "    }\n",
       "</style>\n",
       "<table border=\"1\" class=\"dataframe\">\n",
       "  <thead>\n",
       "    <tr style=\"text-align: right;\">\n",
       "      <th></th>\n",
       "      <th></th>\n",
       "      <th>buyer_city</th>\n",
       "      <th>proportion</th>\n",
       "    </tr>\n",
       "  </thead>\n",
       "  <tbody>\n",
       "    <tr>\n",
       "      <th rowspan=\"3\" valign=\"top\">8</th>\n",
       "      <th>0</th>\n",
       "      <td>Riyadh</td>\n",
       "      <td>0.290129</td>\n",
       "    </tr>\n",
       "    <tr>\n",
       "      <th>1</th>\n",
       "      <td>Ras Tannurah</td>\n",
       "      <td>0.104120</td>\n",
       "    </tr>\n",
       "    <tr>\n",
       "      <th>2</th>\n",
       "      <td>Skakah</td>\n",
       "      <td>0.091770</td>\n",
       "    </tr>\n",
       "    <tr>\n",
       "      <th rowspan=\"3\" valign=\"top\">9</th>\n",
       "      <th>0</th>\n",
       "      <td>Riyadh</td>\n",
       "      <td>0.318622</td>\n",
       "    </tr>\n",
       "    <tr>\n",
       "      <th>1</th>\n",
       "      <td>Ras Tannurah</td>\n",
       "      <td>0.108217</td>\n",
       "    </tr>\n",
       "    <tr>\n",
       "      <th>2</th>\n",
       "      <td>Al Qassim</td>\n",
       "      <td>0.105666</td>\n",
       "    </tr>\n",
       "    <tr>\n",
       "      <th rowspan=\"3\" valign=\"top\">10</th>\n",
       "      <th>0</th>\n",
       "      <td>Riyadh</td>\n",
       "      <td>0.279204</td>\n",
       "    </tr>\n",
       "    <tr>\n",
       "      <th>1</th>\n",
       "      <td>Al Qassim</td>\n",
       "      <td>0.108344</td>\n",
       "    </tr>\n",
       "    <tr>\n",
       "      <th>2</th>\n",
       "      <td>Ras Tannurah</td>\n",
       "      <td>0.095646</td>\n",
       "    </tr>\n",
       "    <tr>\n",
       "      <th rowspan=\"3\" valign=\"top\">11</th>\n",
       "      <th>0</th>\n",
       "      <td>Riyadh</td>\n",
       "      <td>0.311680</td>\n",
       "    </tr>\n",
       "    <tr>\n",
       "      <th>1</th>\n",
       "      <td>Ras Tannurah</td>\n",
       "      <td>0.102326</td>\n",
       "    </tr>\n",
       "    <tr>\n",
       "      <th>2</th>\n",
       "      <td>Al Qassim</td>\n",
       "      <td>0.085700</td>\n",
       "    </tr>\n",
       "    <tr>\n",
       "      <th rowspan=\"3\" valign=\"top\">12</th>\n",
       "      <th>0</th>\n",
       "      <td>Riyadh</td>\n",
       "      <td>0.265461</td>\n",
       "    </tr>\n",
       "    <tr>\n",
       "      <th>1</th>\n",
       "      <td>Ras Tannurah</td>\n",
       "      <td>0.104183</td>\n",
       "    </tr>\n",
       "    <tr>\n",
       "      <th>2</th>\n",
       "      <td>Al Qassim</td>\n",
       "      <td>0.080645</td>\n",
       "    </tr>\n",
       "  </tbody>\n",
       "</table>\n",
       "</div>"
      ],
      "text/plain": [
       "        buyer_city  proportion\n",
       "8  0        Riyadh    0.290129\n",
       "   1  Ras Tannurah    0.104120\n",
       "   2        Skakah    0.091770\n",
       "9  0        Riyadh    0.318622\n",
       "   1  Ras Tannurah    0.108217\n",
       "   2     Al Qassim    0.105666\n",
       "10 0        Riyadh    0.279204\n",
       "   1     Al Qassim    0.108344\n",
       "   2  Ras Tannurah    0.095646\n",
       "11 0        Riyadh    0.311680\n",
       "   1  Ras Tannurah    0.102326\n",
       "   2     Al Qassim    0.085700\n",
       "12 0        Riyadh    0.265461\n",
       "   1  Ras Tannurah    0.104183\n",
       "   2     Al Qassim    0.080645"
      ]
     },
     "execution_count": 24,
     "metadata": {},
     "output_type": "execute_result"
    }
   ],
   "source": [
    "def get_month_precentages(column = 'grand_total', sum_or_count = 'sum', groupby = ['month', 'buyer_city']):\n",
    "    \n",
    "    #new\n",
    "    city_month = transactions.groupby(groupby).sum()[[column]]\n",
    "\n",
    "    city_month_pctgs = city_month.groupby(level=0).apply(lambda x: x / x.sum())\n",
    "\n",
    "    # city_month_pctgs.groupby('month').sort_values()\n",
    "    city_month_pctgs\n",
    "    \n",
    "    \n",
    "    # old\n",
    "\n",
    "    city_month = transactions.groupby(['month', 'buyer_city']).sum()['grand_total']\n",
    "    months_unique = city_month_pctgs.index.unique(level='month')\n",
    "    index = pd.MultiIndex.from_product([list(months_unique), list(range(3))])\n",
    "\n",
    "    props = pd.DataFrame(columns=['buyer_city', 'proportion'], index=index)\n",
    "\n",
    "    for month in months_unique:\n",
    "        count = 0\n",
    "        for i in range(N_FIRST):\n",
    "            proportion_city = city_month_pctgs.loc[month].sort_values(by=column, ascending=False).iloc[i]\n",
    "            \n",
    "            props.loc[(month, i), 'buyer_city'] = proportion_city.name\n",
    "            props.loc[(month, i), 'proportion'] = proportion_city.iloc[0]\n",
    "\n",
    "    return props    \n",
    "    \n",
    "best_cities = get_month_precentages()\n",
    "best_cities['proportion'] = best_cities.proportion.astype('float')\n",
    "best_cities"
   ]
  },
  {
   "cell_type": "code",
   "execution_count": 25,
   "metadata": {},
   "outputs": [
    {
     "data": {
      "text/plain": [
       "Text(0.5, 1.0, 'Proportion of sales in different cities (total value in SR)')"
      ]
     },
     "execution_count": 25,
     "metadata": {},
     "output_type": "execute_result"
    },
    {
     "data": {
      "image/png": "[encoded data removed]",
      "text/plain": [
       "<Figure size 640x480 with 1 Axes>"
      ]
     },
     "metadata": {},
     "output_type": "display_data"
    }
   ],
   "source": [
    "# calculate proportion of sales made outside the top 3 cities\n",
    "# other_cities = (1 - df_proportion_riyals.groupby('month')['proportion'].sum())\n",
    "month = best_cities.index.get_level_values(0)\n",
    "\n",
    "# make plot\n",
    "sns.lineplot(x=month, y=best_cities.proportion*100, hue=best_cities.buyer_city)\n",
    "# plt.plot(df_proportion_riyals.month.unique(), other_cities*100, label=\"other\", color='grey')\n",
    "plt.xticks([8,9,10,11,12], labels=['August', 'September', 'October', 'November', 'December'])\n",
    "plt.legend()\n",
    "plt.ylabel(\"Proportion of sales %\")\n",
    "plt.title(\"Proportion of sales in different cities (total value in SR)\")"
   ]
  },
  {
   "cell_type": "markdown",
   "metadata": {},
   "source": [
    "## Result 4: Average time between registration date and purchase date\n"
   ]
  },
  {
   "cell_type": "code",
   "execution_count": 26,
   "metadata": {},
   "outputs": [
    {
     "data": {
      "text/plain": [
       "(2138, 8)"
      ]
     },
     "execution_count": 26,
     "metadata": {},
     "output_type": "execute_result"
    }
   ],
   "source": [
    "# filter out purchases other than the first purchase\n",
    "first_purchase_df = transactions.loc[~ transactions.duplicated(subset=\"buyer_phone\", keep='first')]\n",
    "first_purchase_df.shape"
   ]
  },
  {
   "cell_type": "code",
   "execution_count": 27,
   "metadata": {},
   "outputs": [
    {
     "data": {
      "text/html": [
       "<div>\n",
       "<style scoped>\n",
       "    .dataframe tbody tr th:only-of-type {\n",
       "        vertical-align: middle;\n",
       "    }\n",
       "\n",
       "    .dataframe tbody tr th {\n",
       "        vertical-align: top;\n",
       "    }\n",
       "\n",
       "    .dataframe thead th {\n",
       "        text-align: right;\n",
       "    }\n",
       "</style>\n",
       "<table border=\"1\" class=\"dataframe\">\n",
       "  <thead>\n",
       "    <tr style=\"text-align: right;\">\n",
       "      <th></th>\n",
       "      <th>ID_purchased</th>\n",
       "      <th>date</th>\n",
       "      <th>status</th>\n",
       "      <th>buyer_phone</th>\n",
       "      <th>buyer_city</th>\n",
       "      <th>grand_total</th>\n",
       "      <th>month</th>\n",
       "      <th>day</th>\n",
       "      <th>ID_customer</th>\n",
       "      <th>customer_phone</th>\n",
       "      <th>createdDate</th>\n",
       "      <th>lastLoginDate</th>\n",
       "    </tr>\n",
       "  </thead>\n",
       "  <tbody>\n",
       "    <tr>\n",
       "      <th>0</th>\n",
       "      <td>1</td>\n",
       "      <td>2025-08-19</td>\n",
       "      <td>refunded</td>\n",
       "      <td>536047743</td>\n",
       "      <td>Riyadh</td>\n",
       "      <td>10849.950</td>\n",
       "      <td>8</td>\n",
       "      <td>19</td>\n",
       "      <td>3497</td>\n",
       "      <td>536047743</td>\n",
       "      <td>17/08/2025T22:39:34.834Z</td>\n",
       "      <td>18/08/2025T13:09:42.971Z</td>\n",
       "    </tr>\n",
       "    <tr>\n",
       "      <th>1</th>\n",
       "      <td>3</td>\n",
       "      <td>2025-08-19</td>\n",
       "      <td>refunded</td>\n",
       "      <td>555755225</td>\n",
       "      <td>Riyadh</td>\n",
       "      <td>6630.525</td>\n",
       "      <td>8</td>\n",
       "      <td>19</td>\n",
       "      <td>3051</td>\n",
       "      <td>555755225</td>\n",
       "      <td>16/08/2025T16:17:01.168Z</td>\n",
       "      <td>19/08/2025T16:14:37.322Z</td>\n",
       "    </tr>\n",
       "    <tr>\n",
       "      <th>2</th>\n",
       "      <td>5</td>\n",
       "      <td>2025-08-19</td>\n",
       "      <td>Transferred</td>\n",
       "      <td>558411024</td>\n",
       "      <td>Abha</td>\n",
       "      <td>12671.100</td>\n",
       "      <td>8</td>\n",
       "      <td>19</td>\n",
       "      <td>3645</td>\n",
       "      <td>558411024</td>\n",
       "      <td>18/08/2025T14:10:21.515Z</td>\n",
       "      <td>19/08/2025T19:04:20.269Z</td>\n",
       "    </tr>\n",
       "    <tr>\n",
       "      <th>3</th>\n",
       "      <td>7</td>\n",
       "      <td>2025-08-19</td>\n",
       "      <td>Transferred</td>\n",
       "      <td>544920156</td>\n",
       "      <td>Skakah</td>\n",
       "      <td>14136.000</td>\n",
       "      <td>8</td>\n",
       "      <td>19</td>\n",
       "      <td>2039</td>\n",
       "      <td>544920156</td>\n",
       "      <td>13/08/2025T20:06:50.206Z</td>\n",
       "      <td>19/08/2025T22:09:44.761Z</td>\n",
       "    </tr>\n",
       "    <tr>\n",
       "      <th>4</th>\n",
       "      <td>10</td>\n",
       "      <td>2025-08-21</td>\n",
       "      <td>Transferred</td>\n",
       "      <td>569281258</td>\n",
       "      <td>Makkah</td>\n",
       "      <td>6498.000</td>\n",
       "      <td>8</td>\n",
       "      <td>21</td>\n",
       "      <td>5093</td>\n",
       "      <td>569281258</td>\n",
       "      <td>21/08/2025T07:47:07.708Z</td>\n",
       "      <td>26/08/2025T10:49:37.445Z</td>\n",
       "    </tr>\n",
       "  </tbody>\n",
       "</table>\n",
       "</div>"
      ],
      "text/plain": [
       "   ID_purchased       date       status  buyer_phone buyer_city  grand_total  \\\n",
       "0             1 2025-08-19     refunded    536047743     Riyadh    10849.950   \n",
       "1             3 2025-08-19     refunded    555755225     Riyadh     6630.525   \n",
       "2             5 2025-08-19  Transferred    558411024       Abha    12671.100   \n",
       "3             7 2025-08-19  Transferred    544920156     Skakah    14136.000   \n",
       "4            10 2025-08-21  Transferred    569281258     Makkah     6498.000   \n",
       "\n",
       "   month  day  ID_customer  customer_phone               createdDate  \\\n",
       "0      8   19         3497       536047743  17/08/2025T22:39:34.834Z   \n",
       "1      8   19         3051       555755225  16/08/2025T16:17:01.168Z   \n",
       "2      8   19         3645       558411024  18/08/2025T14:10:21.515Z   \n",
       "3      8   19         2039       544920156  13/08/2025T20:06:50.206Z   \n",
       "4      8   21         5093       569281258  21/08/2025T07:47:07.708Z   \n",
       "\n",
       "              lastLoginDate  \n",
       "0  18/08/2025T13:09:42.971Z  \n",
       "1  19/08/2025T16:14:37.322Z  \n",
       "2  19/08/2025T19:04:20.269Z  \n",
       "3  19/08/2025T22:09:44.761Z  \n",
       "4  26/08/2025T10:49:37.445Z  "
      ]
     },
     "execution_count": 27,
     "metadata": {},
     "output_type": "execute_result"
    }
   ],
   "source": [
    "# join transactions with customers dataframes\n",
    "joined_df = first_purchase_df.merge(customers, left_on=\"buyer_phone\", right_on=\"customer_phone\", how=\"inner\", suffixes=['_purchased', '_customer'])\n",
    "joined_df.head()"
   ]
  },
  {
   "cell_type": "code",
   "execution_count": 28,
   "metadata": {},
   "outputs": [
    {
     "data": {
      "text/plain": [
       "0.8685687558465855"
      ]
     },
     "execution_count": 28,
     "metadata": {},
     "output_type": "execute_result"
    }
   ],
   "source": [
    "joined_df.shape[0] / first_purchase_df.shape[0]"
   ]
  },
  {
   "attachments": {},
   "cell_type": "markdown",
   "metadata": {},
   "source": [
    "### More than 10% of customers in the transactions dataframe can't be found in the customers dataframe! "
   ]
  },
  {
   "cell_type": "code",
   "execution_count": 29,
   "metadata": {},
   "outputs": [
    {
     "name": "stdout",
     "output_type": "stream",
     "text": [
      "<class 'pandas.core.frame.DataFrame'>\n",
      "Int64Index: 1857 entries, 0 to 1856\n",
      "Data columns (total 12 columns):\n",
      " #   Column          Non-Null Count  Dtype         \n",
      "---  ------          --------------  -----         \n",
      " 0   ID_purchased    1857 non-null   int64         \n",
      " 1   date            1857 non-null   datetime64[ns]\n",
      " 2   status          1857 non-null   object        \n",
      " 3   buyer_phone     1857 non-null   int64         \n",
      " 4   buyer_city      1857 non-null   object        \n",
      " 5   grand_total     1857 non-null   float64       \n",
      " 6   month           1857 non-null   int64         \n",
      " 7   day             1857 non-null   int64         \n",
      " 8   ID_customer     1857 non-null   int64         \n",
      " 9   customer_phone  1857 non-null   int64         \n",
      " 10  createdDate     1857 non-null   datetime64[ns]\n",
      " 11  lastLoginDate   1857 non-null   datetime64[ns]\n",
      "dtypes: datetime64[ns](3), float64(1), int64(6), object(2)\n",
      "memory usage: 188.6+ KB\n"
     ]
    }
   ],
   "source": [
    "# fix date encoding\n",
    "joined_df['createdDate'] = pd.to_datetime(joined_df.createdDate, infer_datetime_format=True).dt.tz_localize(None)\n",
    "joined_df['lastLoginDate'] = pd.to_datetime(joined_df.lastLoginDate, infer_datetime_format=True).dt.tz_localize(None)\n",
    "joined_df.info()"
   ]
  },
  {
   "cell_type": "code",
   "execution_count": 30,
   "metadata": {},
   "outputs": [
    {
     "name": "stdout",
     "output_type": "stream",
     "text": [
      "The average time between registration and purchase is 64 days 20:44:29.853971459\n"
     ]
    }
   ],
   "source": [
    "# calculate average time between registration and purchase\n",
    "time_until_purchase = joined_df.date - joined_df.createdDate \n",
    "joined_df['time_until_purchase'] = time_until_purchase\n",
    "avg = joined_df['time_until_purchase'].mean()\n",
    "print(f\"The average time between registration and purchase is {avg}\")"
   ]
  },
  {
   "attachments": {},
   "cell_type": "markdown",
   "metadata": {},
   "source": [
    "## Result 4.1: On average customers take 64 days after registring to make a purchase."
   ]
  },
  {
   "cell_type": "code",
   "execution_count": 31,
   "metadata": {},
   "outputs": [
    {
     "data": {
      "text/plain": [
       "Text(0.5, 0, 'time_until_purchase')"
      ]
     },
     "execution_count": 31,
     "metadata": {},
     "output_type": "execute_result"
    },
    {
     "data": {
      "image/png": "[encoded data removed]",
      "text/plain": [
       "<Figure size 640x480 with 1 Axes>"
      ]
     },
     "metadata": {},
     "output_type": "display_data"
    }
   ],
   "source": [
    "time_until_purchase_days = joined_df.time_until_purchase.astype('int') / (1e9 * 60 * 60 * 24)\n",
    "plt.hist(time_until_purchase_days, bins=10)\n",
    "plt.title(\"Time between registration and purchase\")\n",
    "plt.xlabel(\"time_until_purchase\")"
   ]
  },
  {
   "attachments": {},
   "cell_type": "markdown",
   "metadata": {},
   "source": [
    "### If we zoom in into the data, we see that that the distribution of time_until_purchase isn't normal."
   ]
  },
  {
   "cell_type": "code",
   "execution_count": 32,
   "metadata": {},
   "outputs": [
    {
     "data": {
      "text/plain": [
       "Text(0.5, 0, 'Time until purchase')"
      ]
     },
     "execution_count": 32,
     "metadata": {},
     "output_type": "execute_result"
    },
    {
     "data": {
      "image/png": "[encoded data removed]",
      "text/plain": [
       "<Figure size 640x480 with 1 Axes>"
      ]
     },
     "metadata": {},
     "output_type": "display_data"
    }
   ],
   "source": [
    "time_until_purchase_days = joined_df.time_until_purchase.astype('int') / (1e9 * 60 * 60 * 24)\n",
    "plt.hist(time_until_purchase_days, bins=40)\n",
    "plt.title(\"Time between registration and purchase\")\n",
    "plt.ylim(top=100)\n",
    "plt.xlim(0)\n",
    "plt.xlabel(\"Time until purchase\")"
   ]
  },
  {
   "attachments": {},
   "cell_type": "markdown",
   "metadata": {},
   "source": [
    "### Result 4.2: Data quality issues exist in the two dataframes; xxx % of customers take zero or less second to make a purchase."
   ]
  },
  {
   "cell_type": "code",
   "execution_count": 33,
   "metadata": {},
   "outputs": [
    {
     "data": {
      "text/plain": [
       "0.17501346257404415"
      ]
     },
     "execution_count": 33,
     "metadata": {},
     "output_type": "execute_result"
    }
   ],
   "source": [
    "float((time_until_purchase_days <= 0).sum()) / float(time_until_purchase_days.count())"
   ]
  },
  {
   "attachments": {},
   "cell_type": "markdown",
   "metadata": {},
   "source": [
    "### Result 4.3: Registration dayofweek has a significant effect on the time_until_purchase. "
   ]
  },
  {
   "cell_type": "code",
   "execution_count": 34,
   "metadata": {},
   "outputs": [
    {
     "data": {
      "text/plain": [
       "Text(0.5, 1.0, 'Registration Day of Week Effect on Time Until Purchase')"
      ]
     },
     "execution_count": 34,
     "metadata": {},
     "output_type": "execute_result"
    },
    {
     "data": {
      "image/png": "[encoded data removed]",
      "text/plain": [
       "<Figure size 640x480 with 1 Axes>"
      ]
     },
     "metadata": {},
     "output_type": "display_data"
    }
   ],
   "source": [
    "# date of signing up and time until purchase\n",
    "\n",
    "dayofmonth = joined_df.createdDate.apply(lambda x: x.day)\n",
    "month = joined_df.createdDate.apply(lambda x: x.month)\n",
    "# time_until_purchase = joined_df.time_until_purchase\n",
    "grand_total = joined_df.grand_total\n",
    "time_until_purchase = joined_df.time_until_purchase.astype('int') / (1e9 * 60 * 60 * 24)\n",
    "\n",
    "slice = ~ (joined_df.time_until_purchase.astype('int') == 0)\n",
    "dayofweek = joined_df.createdDate.apply(lambda x: x.dayofweek).loc[slice]\n",
    "time_until_purchase = (joined_df.time_until_purchase.astype('int') / (1e9 * 60 * 60 * 24)).loc[slice]\n",
    "\n",
    "sns.boxplot(x=dayofweek, y=time_until_purchase)\n",
    "plt.ylim((0, 50) )\n",
    "plt.xticks([0,1,2,3,4,5,6], labels=['Monday', 'Tuesday', 'Wednesday', 'Thursday', 'Friday', 'Saturday', 'Sunday'])\n",
    "plt.ylabel(\"Time until purchase (in days)\")\n",
    "plt.xlabel(\"Registration day of week\")\n",
    "plt.title(\"Registration Day of Week Effect on Time Until Purchase\")"
   ]
  },
  {
   "cell_type": "code",
   "execution_count": 35,
   "metadata": {},
   "outputs": [
    {
     "data": {
      "text/html": [
       "<div>\n",
       "<style scoped>\n",
       "    .dataframe tbody tr th:only-of-type {\n",
       "        vertical-align: middle;\n",
       "    }\n",
       "\n",
       "    .dataframe tbody tr th {\n",
       "        vertical-align: top;\n",
       "    }\n",
       "\n",
       "    .dataframe thead th {\n",
       "        text-align: right;\n",
       "    }\n",
       "</style>\n",
       "<table border=\"1\" class=\"dataframe\">\n",
       "  <thead>\n",
       "    <tr style=\"text-align: right;\">\n",
       "      <th></th>\n",
       "      <th>ID_x</th>\n",
       "      <th>date</th>\n",
       "      <th>status</th>\n",
       "      <th>buyer_phone</th>\n",
       "      <th>buyer_city</th>\n",
       "      <th>grand_total</th>\n",
       "      <th>purchase_1</th>\n",
       "      <th>purchase_2</th>\n",
       "      <th>purchase_3</th>\n",
       "      <th>purchase_1_status</th>\n",
       "      <th>...</th>\n",
       "      <th>customer_phone</th>\n",
       "      <th>createdDate</th>\n",
       "      <th>lastLoginDate</th>\n",
       "      <th>registration_year</th>\n",
       "      <th>registration_month</th>\n",
       "      <th>registration_day</th>\n",
       "      <th>registration_dayofweek</th>\n",
       "      <th>registration_year_hijri</th>\n",
       "      <th>registration_month_hijri</th>\n",
       "      <th>registration_day_hijri</th>\n",
       "    </tr>\n",
       "  </thead>\n",
       "  <tbody>\n",
       "    <tr>\n",
       "      <th>0</th>\n",
       "      <td>NaN</td>\n",
       "      <td>NaT</td>\n",
       "      <td>NaN</td>\n",
       "      <td>NaN</td>\n",
       "      <td>NaN</td>\n",
       "      <td>NaN</td>\n",
       "      <td>NaN</td>\n",
       "      <td>NaN</td>\n",
       "      <td>NaN</td>\n",
       "      <td>NaN</td>\n",
       "      <td>...</td>\n",
       "      <td>556736718</td>\n",
       "      <td>01/08/2025T08:28:25.471Z</td>\n",
       "      <td>01/08/2025T08:28:34.830Z</td>\n",
       "      <td>2025</td>\n",
       "      <td>1</td>\n",
       "      <td>8</td>\n",
       "      <td>2</td>\n",
       "      <td>1446</td>\n",
       "      <td>7</td>\n",
       "      <td>8</td>\n",
       "    </tr>\n",
       "    <tr>\n",
       "      <th>1</th>\n",
       "      <td>NaN</td>\n",
       "      <td>NaT</td>\n",
       "      <td>NaN</td>\n",
       "      <td>NaN</td>\n",
       "      <td>NaN</td>\n",
       "      <td>NaN</td>\n",
       "      <td>NaN</td>\n",
       "      <td>NaN</td>\n",
       "      <td>NaN</td>\n",
       "      <td>NaN</td>\n",
       "      <td>...</td>\n",
       "      <td>564760303</td>\n",
       "      <td>01/08/2025T08:31:15.696Z</td>\n",
       "      <td>10/09/2025T07:44:25.074Z</td>\n",
       "      <td>2025</td>\n",
       "      <td>1</td>\n",
       "      <td>8</td>\n",
       "      <td>2</td>\n",
       "      <td>1446</td>\n",
       "      <td>7</td>\n",
       "      <td>8</td>\n",
       "    </tr>\n",
       "    <tr>\n",
       "      <th>2</th>\n",
       "      <td>NaN</td>\n",
       "      <td>NaT</td>\n",
       "      <td>NaN</td>\n",
       "      <td>NaN</td>\n",
       "      <td>NaN</td>\n",
       "      <td>NaN</td>\n",
       "      <td>NaN</td>\n",
       "      <td>NaN</td>\n",
       "      <td>NaN</td>\n",
       "      <td>NaN</td>\n",
       "      <td>...</td>\n",
       "      <td>530903122</td>\n",
       "      <td>01/08/2025T08:58:21.856Z</td>\n",
       "      <td>01/08/2025T08:59:35.462Z</td>\n",
       "      <td>2025</td>\n",
       "      <td>1</td>\n",
       "      <td>8</td>\n",
       "      <td>2</td>\n",
       "      <td>1446</td>\n",
       "      <td>7</td>\n",
       "      <td>8</td>\n",
       "    </tr>\n",
       "    <tr>\n",
       "      <th>3</th>\n",
       "      <td>NaN</td>\n",
       "      <td>NaT</td>\n",
       "      <td>NaN</td>\n",
       "      <td>NaN</td>\n",
       "      <td>NaN</td>\n",
       "      <td>NaN</td>\n",
       "      <td>NaN</td>\n",
       "      <td>NaN</td>\n",
       "      <td>NaN</td>\n",
       "      <td>NaN</td>\n",
       "      <td>...</td>\n",
       "      <td>506040253</td>\n",
       "      <td>01/08/2025T09:08:19.853Z</td>\n",
       "      <td>01/08/2025T09:09:09.052Z</td>\n",
       "      <td>2025</td>\n",
       "      <td>1</td>\n",
       "      <td>8</td>\n",
       "      <td>2</td>\n",
       "      <td>1446</td>\n",
       "      <td>7</td>\n",
       "      <td>8</td>\n",
       "    </tr>\n",
       "    <tr>\n",
       "      <th>4</th>\n",
       "      <td>NaN</td>\n",
       "      <td>NaT</td>\n",
       "      <td>NaN</td>\n",
       "      <td>NaN</td>\n",
       "      <td>NaN</td>\n",
       "      <td>NaN</td>\n",
       "      <td>NaN</td>\n",
       "      <td>NaN</td>\n",
       "      <td>NaN</td>\n",
       "      <td>NaN</td>\n",
       "      <td>...</td>\n",
       "      <td>531402212</td>\n",
       "      <td>01/08/2025T09:12:53.093Z</td>\n",
       "      <td>01/08/2025T09:12:59.441Z</td>\n",
       "      <td>2025</td>\n",
       "      <td>1</td>\n",
       "      <td>8</td>\n",
       "      <td>2</td>\n",
       "      <td>1446</td>\n",
       "      <td>7</td>\n",
       "      <td>8</td>\n",
       "    </tr>\n",
       "  </tbody>\n",
       "</table>\n",
       "<p>5 rows × 25 columns</p>\n",
       "</div>"
      ],
      "text/plain": [
       "   ID_x date status  buyer_phone buyer_city  grand_total purchase_1  \\\n",
       "0   NaN  NaT    NaN          NaN        NaN          NaN        NaN   \n",
       "1   NaN  NaT    NaN          NaN        NaN          NaN        NaN   \n",
       "2   NaN  NaT    NaN          NaN        NaN          NaN        NaN   \n",
       "3   NaN  NaT    NaN          NaN        NaN          NaN        NaN   \n",
       "4   NaN  NaT    NaN          NaN        NaN          NaN        NaN   \n",
       "\n",
       "  purchase_2 purchase_3 purchase_1_status  ... customer_phone  \\\n",
       "0        NaN        NaN               NaN  ...      556736718   \n",
       "1        NaN        NaN               NaN  ...      564760303   \n",
       "2        NaN        NaN               NaN  ...      530903122   \n",
       "3        NaN        NaN               NaN  ...      506040253   \n",
       "4        NaN        NaN               NaN  ...      531402212   \n",
       "\n",
       "                createdDate             lastLoginDate registration_year  \\\n",
       "0  01/08/2025T08:28:25.471Z  01/08/2025T08:28:34.830Z              2025   \n",
       "1  01/08/2025T08:31:15.696Z  10/09/2025T07:44:25.074Z              2025   \n",
       "2  01/08/2025T08:58:21.856Z  01/08/2025T08:59:35.462Z              2025   \n",
       "3  01/08/2025T09:08:19.853Z  01/08/2025T09:09:09.052Z              2025   \n",
       "4  01/08/2025T09:12:53.093Z  01/08/2025T09:12:59.441Z              2025   \n",
       "\n",
       "   registration_month  registration_day registration_dayofweek  \\\n",
       "0                   1                 8                      2   \n",
       "1                   1                 8                      2   \n",
       "2                   1                 8                      2   \n",
       "3                   1                 8                      2   \n",
       "4                   1                 8                      2   \n",
       "\n",
       "  registration_year_hijri  registration_month_hijri  registration_day_hijri  \n",
       "0                    1446                         7                       8  \n",
       "1                    1446                         7                       8  \n",
       "2                    1446                         7                       8  \n",
       "3                    1446                         7                       8  \n",
       "4                    1446                         7                       8  \n",
       "\n",
       "[5 rows x 25 columns]"
      ]
     },
     "execution_count": 35,
     "metadata": {},
     "output_type": "execute_result"
    }
   ],
   "source": [
    "# create a transactions df that has makes_second_purchase rate\n",
    "purchase_customer = purchase_df.merge(customers, 'right', left_on='buyer_phone', right_on='customer_phone')\n",
    "\n",
    "purchase_customer['registration_year'] = pd.to_datetime(purchase_customer.createdDate, infer_datetime_format=True).dt.tz_localize(None).apply(lambda x: x.year)\n",
    "purchase_customer['registration_month'] = pd.to_datetime(purchase_customer.createdDate, infer_datetime_format=True).dt.tz_localize(None).apply(lambda x: x.month)\n",
    "purchase_customer['registration_day'] = pd.to_datetime(purchase_customer.createdDate, infer_datetime_format=True).dt.tz_localize(None).apply(lambda x: x.day)\n",
    "purchase_customer['registration_dayofweek'] = pd.to_datetime(purchase_customer.createdDate, infer_datetime_format=True).dt.tz_localize(None).apply(lambda x: x.dayofweek)\n",
    "\n",
    "purchase_customer['registration_year_hijri'] = pd.to_datetime(purchase_customer.createdDate, infer_datetime_format=True).dt.tz_localize(None).apply(lambda x: Gregorian(x.year, x.month, x.day).to_hijri().year)\n",
    "purchase_customer['registration_month_hijri'] = pd.to_datetime(purchase_customer.createdDate, infer_datetime_format=True).dt.tz_localize(None).apply(lambda x: Gregorian(x.year, x.month, x.day).to_hijri().month)\n",
    "purchase_customer['registration_day_hijri'] = pd.to_datetime(purchase_customer.createdDate, infer_datetime_format=True).dt.tz_localize(None).apply(lambda x: Gregorian(x.year, x.month, x.day).to_hijri().day)\n",
    "\n",
    "purchase_customer.head()"
   ]
  },
  {
   "attachments": {},
   "cell_type": "markdown",
   "metadata": {},
   "source": [
    "### Result 4.4: A very high percentage of new customers are converted into paying customers during August (start of new school year)."
   ]
  },
  {
   "cell_type": "code",
   "execution_count": 41,
   "metadata": {},
   "outputs": [
    {
     "data": {
      "text/plain": [
       "Text(0, 0.5, 'Conversion rate: % of new users who bought a device')"
      ]
     },
     "execution_count": 41,
     "metadata": {},
     "output_type": "execute_result"
    },
    {
     "data": {
      "image/png": "[encoded data removed]",
      "text/plain": [
       "<Figure size 640x480 with 1 Axes>"
      ]
     },
     "metadata": {},
     "output_type": "display_data"
    }
   ],
   "source": [
    "months_conversion = purchase_customer.groupby('registration_month').apply(lambda x: (float(x.purchase_1.count()) / float(x.customer_phone.nunique()) * 100))\n",
    "sns.lineplot(x=pd.Series(purchase_customer.registration_month.unique()).sort_values(), y=months_conversion)\n",
    "plt.title(\"Conversion rate v.s. Month: no better time to buy a device than just before the school year starts\")\n",
    "plt.xticks([1,3,5,7,9,11], ['January', 'March', 'May', 'July',\n",
    "                                         'September', 'November'])\n",
    "plt.xlabel(\"Month\")\n",
    "plt.ylabel(\"Conversion rate: % of new users who bought a device\")\n",
    "\n"
   ]
  },
  {
   "attachments": {},
   "cell_type": "markdown",
   "metadata": {},
   "source": [
    "### Result 4.5: Concentrate marketing efforts on advertising on Thursday and Friday"
   ]
  },
  {
   "cell_type": "code",
   "execution_count": 44,
   "metadata": {},
   "outputs": [
    {
     "data": {
      "text/plain": [
       "Text(0, 0.5, 'Conversion rate: % of new users who bought a device')"
      ]
     },
     "execution_count": 44,
     "metadata": {},
     "output_type": "execute_result"
    },
    {
     "data": {
      "image/png": "[encoded data removed]",
      "text/plain": [
       "<Figure size 640x480 with 1 Axes>"
      ]
     },
     "metadata": {},
     "output_type": "display_data"
    }
   ],
   "source": [
    "months_conversion = purchase_customer.groupby('registration_dayofweek').apply(\n",
    "    lambda x: (float(x.purchase_1.count()) / float(x.customer_phone.nunique()) * 100))\n",
    "\n",
    "sns.lineplot(x=pd.Series(purchase_customer.registration_dayofweek.unique()).sort_values(), y=months_conversion)\n",
    "plt.title(\"Conversion rate v.s. Month: no better time to buy a device than just before the school year starts\")\n",
    "\n",
    "# plt.xticks([1,3,5,7,9,11], ['January', 'March', 'May', 'July',\n",
    "#                                          'September', 'November'])\n",
    "plt.xlabel(\"Registration Day of Week\")\n",
    "plt.xticks([0,1,2,3,4,5,6], ['Monday', 'Tuesday', 'Wednesday', 'Thursday', 'Friday', 'Saturday', 'Sunday'])\n",
    "plt.ylabel(\"Conversion rate: % of new users who bought a device\")\n"
   ]
  },
  {
   "cell_type": "code",
   "execution_count": 43,
   "metadata": {},
   "outputs": [
    {
     "data": {
      "text/plain": [
       "Text(0, 0.5, 'Conversion rate: % of new users who bought a device')"
      ]
     },
     "execution_count": 43,
     "metadata": {},
     "output_type": "execute_result"
    },
    {
     "data": {
      "image/png": "[encoded data removed]",
      "text/plain": [
       "<Figure size 640x480 with 1 Axes>"
      ]
     },
     "metadata": {},
     "output_type": "display_data"
    }
   ],
   "source": [
    "# get conversion rate for different days of week (filter customers who \n",
    "# registered before July because no sales were made before)\n",
    "dayofweek_conversion = purchase_customer.query(\"registration_month > 7\").groupby('registration_dayofweek').apply(\n",
    "    lambda x: (float(x.purchase_1.count()) / float(x.customer_phone.nunique()) * 100))\n",
    "\n",
    "\n",
    "sns.lineplot(x=pd.Series(purchase_customer.registration_dayofweek.unique()).sort_values(), y=dayofweek_conversion)\n",
    "plt.title(\"Conversion Rate v.s. Day of Week\")\n",
    "\n",
    "plt.xticks([0,1,2,3,4,5,6], ['Monday', 'Tuesday', 'Wednesday', 'Thursday', 'Friday', 'Saturday', 'Sunday'])\n",
    "plt.xlabel(\"day of week\")\n",
    "plt.ylabel(\"Conversion rate: % of new users who bought a device\")\n",
    "\n"
   ]
  },
  {
   "cell_type": "code",
   "execution_count": 39,
   "metadata": {},
   "outputs": [],
   "source": [
    "# old ********************************\n",
    "def get_month_growth(column = 'grand_total', sum_or_count = 'sum', groupby = ['buyer_city', 'month']):\n",
    "    \n",
    "    city_month = transactions.groupby(groupby).sum()[[column]]\n",
    "    city_month_pctgs = city_month.groupby(level=0).apply(lambda x: x[column].pct_change())\n",
    "\n",
    "    props = city_month_pctgs\n",
    "    props = props.reset_index(level=0)\n",
    "    return props    \n",
    "    \n",
    "# best_cities = get_month_growth()\n",
    "# best_cities"
   ]
  },
  {
   "attachments": {},
   "cell_type": "markdown",
   "metadata": {},
   "source": [
    "### Result 4.6: There's a general trend toward lower growth rates in rerms of sales\n",
    "- There are two clusters of cities: those whose growth rates went up on October, and those whose growth rates went down as shown above (cities not shown in the plot also belong to the same two clusters)"
   ]
  },
  {
   "cell_type": "code",
   "execution_count": 40,
   "metadata": {},
   "outputs": [
    {
     "data": {
      "text/plain": [
       "Text(0.5, 1.0, 'Growth in sales total value')"
      ]
     },
     "execution_count": 40,
     "metadata": {},
     "output_type": "execute_result"
    },
    {
     "data": {
      "image/png": "[encoded data removed]",
      "text/plain": [
       "<Figure size 640x480 with 1 Axes>"
      ]
     },
     "metadata": {},
     "output_type": "display_data"
    }
   ],
   "source": [
    "# calculate proportion of sales made outside the top 3 cities\n",
    "# other_cities = (1 - df_proportion_riyals.groupby('month')['proportion'].sum())\n",
    "best_cities = get_month_growth()\n",
    "month = best_cities.index.get_level_values('month')\n",
    "buyer_city = best_cities.index.get_level_values('buyer_city')\n",
    "important_cities = list(transactions.groupby('buyer_city').sum()['grand_total'].sort_values(ascending=False)[0:N_FIRST+2].index)\n",
    "best_cities = best_cities.loc[best_cities.buyer_city.apply(lambda x: x in important_cities)]\n",
    "month = best_cities.index.get_level_values('month')\n",
    "buyer_city = best_cities.index.get_level_values('buyer_city')\n",
    "# make plot\n",
    "sns.lineplot(x=month, y=best_cities.grand_total*100, hue=best_cities.buyer_city)\n",
    "# plt.plot(df_proportion_riyals.month.unique(), other_cities*100, label=\"other\", color='grey')\n",
    "plt.xticks([8,9,10,11,12], labels=['August', 'September', 'October', 'November', 'December'])\n",
    "plt.legend()\n",
    "plt.ylabel(\"% change in total sales value\")\n",
    "plt.title(\"Growth in sales total value\")"
   ]
  },
  {
   "attachments": {},
   "cell_type": "markdown",
   "metadata": {},
   "source": [
    "### "
   ]
  },
  {
   "attachments": {},
   "cell_type": "markdown",
   "metadata": {},
   "source": [
    "## Result 5: Actionable insights:\n",
    "\n",
    "1. Targeted marketing for customers who have recently purchased and returned an item \n",
    "    i. They are slightly more likely (5%) to make an additional purchase. (Result 2.2)\n",
    "    ii. They are much less likely to return the next item they purchase (50% v.s. 65%). (Result 2.3)  \n",
    "2. Concentrate marketing to August and January (7% v.s. 2.5% average conversion rate) (Result 4.4)\n",
    "3. Selectivly choose to market on Thursday and Friday (4.5% v.s. 2.5% average conversion rate) (Result 4.5)\n",
    "4. Identify the characteristics/reasons for the two clusters that contain those cities whose growth rate droped significantly during October, and those cities who saw an increase in growth rare. (300% v.s. 25% growth rate ) (Result 4.6)"
   ]
  }
 ],
 "metadata": {
  "kernelspec": {
   "display_name": "base",
   "language": "python",
   "name": "python3"
  },
  "language_info": {
   "codemirror_mode": {
    "name": "ipython",
    "version": 3
   },
   "file_extension": ".py",
   "mimetype": "text/x-python",
   "name": "python",
   "nbconvert_exporter": "python",
   "pygments_lexer": "ipython3",
   "version": "3.8.8"
  },
  "orig_nbformat": 4,
  "vscode": {
   "interpreter": {
    "hash": "f377678b927e69392be3d32c4a144c48b4fcf75b53b3b6aab14c8f5b0aeaa57a"
   }
  }
 },
 "nbformat": 4,
 "nbformat_minor": 2
}
